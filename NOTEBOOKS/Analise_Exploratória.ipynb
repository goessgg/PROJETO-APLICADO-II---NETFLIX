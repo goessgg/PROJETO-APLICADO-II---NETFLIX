{
  "nbformat": 4,
  "nbformat_minor": 0,
  "metadata": {
    "colab": {
      "provenance": []
    },
    "kernelspec": {
      "name": "python3",
      "display_name": "Python 3"
    },
    "language_info": {
      "name": "python"
    }
  },
  "cells": [
    {
      "cell_type": "markdown",
      "source": [
        "# Importação de Bibliotecas e Carregamento dos Dados\n"
      ],
      "metadata": {
        "id": "Hwjs7AFgOfqG"
      }
    },
    {
      "cell_type": "code",
      "execution_count": 5,
      "metadata": {
        "colab": {
          "base_uri": "https://localhost:8080/"
        },
        "id": "JUC6QMtMsxDw",
        "outputId": "fd698e32-f972-4d2e-b9a8-ed2c3e396c5c"
      },
      "outputs": [
        {
          "output_type": "stream",
          "name": "stdout",
          "text": [
            "Drive already mounted at /content/drive; to attempt to forcibly remount, call drive.mount(\"/content/drive\", force_remount=True).\n"
          ]
        }
      ],
      "source": [
        "# Bibliotecas\n",
        "import pandas as pd\n",
        "import matplotlib.pyplot as plt\n",
        "import seaborn as sns\n",
        "import openpyxl\n",
        "from sklearn.feature_extraction.text import TfidfVectorizer\n",
        "from sklearn.metrics.pairwise import cosine_similarity\n",
        "from sklearn.decomposition import PCA\n",
        "\n",
        "# Conectar ao Google Drive\n",
        "from google.colab import drive\n",
        "drive.mount('/content/drive')\n",
        "\n",
        "# Carregar o dataset\n",
        "df = pd.read_excel('/content/drive/MyDrive/Projeto Aplicado II/Base de dados da Netflix.xlsx')\n"
      ]
    },
    {
      "cell_type": "markdown",
      "source": [
        "# Carregamento da Base de Dados Netflix\n"
      ],
      "metadata": {
        "id": "1pRfxSAFOwmy"
      }
    },
    {
      "cell_type": "code",
      "source": [
        "# Exibir as primeiras linhas do dataset\n",
        "df.head()\n"
      ],
      "metadata": {
        "colab": {
          "base_uri": "https://localhost:8080/",
          "height": 206
        },
        "id": "3wbdO93KOzKk",
        "outputId": "929078b7-1251-4982-a5ba-dd5faa7f9df1"
      },
      "execution_count": 6,
      "outputs": [
        {
          "output_type": "execute_result",
          "data": {
            "text/plain": [
              "   id                 title   type                        genre  \\\n",
              "0   1  The Queen’s Gambit 1  Filme                 Crime, Drama   \n",
              "1   2         The Witcher 2  Filme  Mistério, Ficção Científica   \n",
              "2   3            Parasite 3  Filme             Comédia, Romance   \n",
              "3   4        Breaking Bad 4  Filme               Fantasia, Ação   \n",
              "4   5     The Mandalorian 5  Filme               Fantasia, Ação   \n",
              "\n",
              "                                         description  \n",
              "0  Exploradores viajam pelo espaço em busca de um...  \n",
              "1  Um grupo de crianças descobre segredos governa...  \n",
              "2  Um professor de química do ensino médio se tor...  \n",
              "3  A rotina de um escritório retratada de maneira...  \n",
              "4  Um soldado paraplégico é enviado a um planeta ...  "
            ],
            "text/html": [
              "\n",
              "  <div id=\"df-3e0d75ab-07a8-4af1-beeb-390a150bc618\" class=\"colab-df-container\">\n",
              "    <div>\n",
              "<style scoped>\n",
              "    .dataframe tbody tr th:only-of-type {\n",
              "        vertical-align: middle;\n",
              "    }\n",
              "\n",
              "    .dataframe tbody tr th {\n",
              "        vertical-align: top;\n",
              "    }\n",
              "\n",
              "    .dataframe thead th {\n",
              "        text-align: right;\n",
              "    }\n",
              "</style>\n",
              "<table border=\"1\" class=\"dataframe\">\n",
              "  <thead>\n",
              "    <tr style=\"text-align: right;\">\n",
              "      <th></th>\n",
              "      <th>id</th>\n",
              "      <th>title</th>\n",
              "      <th>type</th>\n",
              "      <th>genre</th>\n",
              "      <th>description</th>\n",
              "    </tr>\n",
              "  </thead>\n",
              "  <tbody>\n",
              "    <tr>\n",
              "      <th>0</th>\n",
              "      <td>1</td>\n",
              "      <td>The Queen’s Gambit 1</td>\n",
              "      <td>Filme</td>\n",
              "      <td>Crime, Drama</td>\n",
              "      <td>Exploradores viajam pelo espaço em busca de um...</td>\n",
              "    </tr>\n",
              "    <tr>\n",
              "      <th>1</th>\n",
              "      <td>2</td>\n",
              "      <td>The Witcher 2</td>\n",
              "      <td>Filme</td>\n",
              "      <td>Mistério, Ficção Científica</td>\n",
              "      <td>Um grupo de crianças descobre segredos governa...</td>\n",
              "    </tr>\n",
              "    <tr>\n",
              "      <th>2</th>\n",
              "      <td>3</td>\n",
              "      <td>Parasite 3</td>\n",
              "      <td>Filme</td>\n",
              "      <td>Comédia, Romance</td>\n",
              "      <td>Um professor de química do ensino médio se tor...</td>\n",
              "    </tr>\n",
              "    <tr>\n",
              "      <th>3</th>\n",
              "      <td>4</td>\n",
              "      <td>Breaking Bad 4</td>\n",
              "      <td>Filme</td>\n",
              "      <td>Fantasia, Ação</td>\n",
              "      <td>A rotina de um escritório retratada de maneira...</td>\n",
              "    </tr>\n",
              "    <tr>\n",
              "      <th>4</th>\n",
              "      <td>5</td>\n",
              "      <td>The Mandalorian 5</td>\n",
              "      <td>Filme</td>\n",
              "      <td>Fantasia, Ação</td>\n",
              "      <td>Um soldado paraplégico é enviado a um planeta ...</td>\n",
              "    </tr>\n",
              "  </tbody>\n",
              "</table>\n",
              "</div>\n",
              "    <div class=\"colab-df-buttons\">\n",
              "\n",
              "  <div class=\"colab-df-container\">\n",
              "    <button class=\"colab-df-convert\" onclick=\"convertToInteractive('df-3e0d75ab-07a8-4af1-beeb-390a150bc618')\"\n",
              "            title=\"Convert this dataframe to an interactive table.\"\n",
              "            style=\"display:none;\">\n",
              "\n",
              "  <svg xmlns=\"http://www.w3.org/2000/svg\" height=\"24px\" viewBox=\"0 -960 960 960\">\n",
              "    <path d=\"M120-120v-720h720v720H120Zm60-500h600v-160H180v160Zm220 220h160v-160H400v160Zm0 220h160v-160H400v160ZM180-400h160v-160H180v160Zm440 0h160v-160H620v160ZM180-180h160v-160H180v160Zm440 0h160v-160H620v160Z\"/>\n",
              "  </svg>\n",
              "    </button>\n",
              "\n",
              "  <style>\n",
              "    .colab-df-container {\n",
              "      display:flex;\n",
              "      gap: 12px;\n",
              "    }\n",
              "\n",
              "    .colab-df-convert {\n",
              "      background-color: #E8F0FE;\n",
              "      border: none;\n",
              "      border-radius: 50%;\n",
              "      cursor: pointer;\n",
              "      display: none;\n",
              "      fill: #1967D2;\n",
              "      height: 32px;\n",
              "      padding: 0 0 0 0;\n",
              "      width: 32px;\n",
              "    }\n",
              "\n",
              "    .colab-df-convert:hover {\n",
              "      background-color: #E2EBFA;\n",
              "      box-shadow: 0px 1px 2px rgba(60, 64, 67, 0.3), 0px 1px 3px 1px rgba(60, 64, 67, 0.15);\n",
              "      fill: #174EA6;\n",
              "    }\n",
              "\n",
              "    .colab-df-buttons div {\n",
              "      margin-bottom: 4px;\n",
              "    }\n",
              "\n",
              "    [theme=dark] .colab-df-convert {\n",
              "      background-color: #3B4455;\n",
              "      fill: #D2E3FC;\n",
              "    }\n",
              "\n",
              "    [theme=dark] .colab-df-convert:hover {\n",
              "      background-color: #434B5C;\n",
              "      box-shadow: 0px 1px 3px 1px rgba(0, 0, 0, 0.15);\n",
              "      filter: drop-shadow(0px 1px 2px rgba(0, 0, 0, 0.3));\n",
              "      fill: #FFFFFF;\n",
              "    }\n",
              "  </style>\n",
              "\n",
              "    <script>\n",
              "      const buttonEl =\n",
              "        document.querySelector('#df-3e0d75ab-07a8-4af1-beeb-390a150bc618 button.colab-df-convert');\n",
              "      buttonEl.style.display =\n",
              "        google.colab.kernel.accessAllowed ? 'block' : 'none';\n",
              "\n",
              "      async function convertToInteractive(key) {\n",
              "        const element = document.querySelector('#df-3e0d75ab-07a8-4af1-beeb-390a150bc618');\n",
              "        const dataTable =\n",
              "          await google.colab.kernel.invokeFunction('convertToInteractive',\n",
              "                                                    [key], {});\n",
              "        if (!dataTable) return;\n",
              "\n",
              "        const docLinkHtml = 'Like what you see? Visit the ' +\n",
              "          '<a target=\"_blank\" href=https://colab.research.google.com/notebooks/data_table.ipynb>data table notebook</a>'\n",
              "          + ' to learn more about interactive tables.';\n",
              "        element.innerHTML = '';\n",
              "        dataTable['output_type'] = 'display_data';\n",
              "        await google.colab.output.renderOutput(dataTable, element);\n",
              "        const docLink = document.createElement('div');\n",
              "        docLink.innerHTML = docLinkHtml;\n",
              "        element.appendChild(docLink);\n",
              "      }\n",
              "    </script>\n",
              "  </div>\n",
              "\n",
              "\n",
              "    <div id=\"df-bf0523fe-14f0-46ec-aeed-562641fe09da\">\n",
              "      <button class=\"colab-df-quickchart\" onclick=\"quickchart('df-bf0523fe-14f0-46ec-aeed-562641fe09da')\"\n",
              "                title=\"Suggest charts\"\n",
              "                style=\"display:none;\">\n",
              "\n",
              "<svg xmlns=\"http://www.w3.org/2000/svg\" height=\"24px\"viewBox=\"0 0 24 24\"\n",
              "     width=\"24px\">\n",
              "    <g>\n",
              "        <path d=\"M19 3H5c-1.1 0-2 .9-2 2v14c0 1.1.9 2 2 2h14c1.1 0 2-.9 2-2V5c0-1.1-.9-2-2-2zM9 17H7v-7h2v7zm4 0h-2V7h2v10zm4 0h-2v-4h2v4z\"/>\n",
              "    </g>\n",
              "</svg>\n",
              "      </button>\n",
              "\n",
              "<style>\n",
              "  .colab-df-quickchart {\n",
              "      --bg-color: #E8F0FE;\n",
              "      --fill-color: #1967D2;\n",
              "      --hover-bg-color: #E2EBFA;\n",
              "      --hover-fill-color: #174EA6;\n",
              "      --disabled-fill-color: #AAA;\n",
              "      --disabled-bg-color: #DDD;\n",
              "  }\n",
              "\n",
              "  [theme=dark] .colab-df-quickchart {\n",
              "      --bg-color: #3B4455;\n",
              "      --fill-color: #D2E3FC;\n",
              "      --hover-bg-color: #434B5C;\n",
              "      --hover-fill-color: #FFFFFF;\n",
              "      --disabled-bg-color: #3B4455;\n",
              "      --disabled-fill-color: #666;\n",
              "  }\n",
              "\n",
              "  .colab-df-quickchart {\n",
              "    background-color: var(--bg-color);\n",
              "    border: none;\n",
              "    border-radius: 50%;\n",
              "    cursor: pointer;\n",
              "    display: none;\n",
              "    fill: var(--fill-color);\n",
              "    height: 32px;\n",
              "    padding: 0;\n",
              "    width: 32px;\n",
              "  }\n",
              "\n",
              "  .colab-df-quickchart:hover {\n",
              "    background-color: var(--hover-bg-color);\n",
              "    box-shadow: 0 1px 2px rgba(60, 64, 67, 0.3), 0 1px 3px 1px rgba(60, 64, 67, 0.15);\n",
              "    fill: var(--button-hover-fill-color);\n",
              "  }\n",
              "\n",
              "  .colab-df-quickchart-complete:disabled,\n",
              "  .colab-df-quickchart-complete:disabled:hover {\n",
              "    background-color: var(--disabled-bg-color);\n",
              "    fill: var(--disabled-fill-color);\n",
              "    box-shadow: none;\n",
              "  }\n",
              "\n",
              "  .colab-df-spinner {\n",
              "    border: 2px solid var(--fill-color);\n",
              "    border-color: transparent;\n",
              "    border-bottom-color: var(--fill-color);\n",
              "    animation:\n",
              "      spin 1s steps(1) infinite;\n",
              "  }\n",
              "\n",
              "  @keyframes spin {\n",
              "    0% {\n",
              "      border-color: transparent;\n",
              "      border-bottom-color: var(--fill-color);\n",
              "      border-left-color: var(--fill-color);\n",
              "    }\n",
              "    20% {\n",
              "      border-color: transparent;\n",
              "      border-left-color: var(--fill-color);\n",
              "      border-top-color: var(--fill-color);\n",
              "    }\n",
              "    30% {\n",
              "      border-color: transparent;\n",
              "      border-left-color: var(--fill-color);\n",
              "      border-top-color: var(--fill-color);\n",
              "      border-right-color: var(--fill-color);\n",
              "    }\n",
              "    40% {\n",
              "      border-color: transparent;\n",
              "      border-right-color: var(--fill-color);\n",
              "      border-top-color: var(--fill-color);\n",
              "    }\n",
              "    60% {\n",
              "      border-color: transparent;\n",
              "      border-right-color: var(--fill-color);\n",
              "    }\n",
              "    80% {\n",
              "      border-color: transparent;\n",
              "      border-right-color: var(--fill-color);\n",
              "      border-bottom-color: var(--fill-color);\n",
              "    }\n",
              "    90% {\n",
              "      border-color: transparent;\n",
              "      border-bottom-color: var(--fill-color);\n",
              "    }\n",
              "  }\n",
              "</style>\n",
              "\n",
              "      <script>\n",
              "        async function quickchart(key) {\n",
              "          const quickchartButtonEl =\n",
              "            document.querySelector('#' + key + ' button');\n",
              "          quickchartButtonEl.disabled = true;  // To prevent multiple clicks.\n",
              "          quickchartButtonEl.classList.add('colab-df-spinner');\n",
              "          try {\n",
              "            const charts = await google.colab.kernel.invokeFunction(\n",
              "                'suggestCharts', [key], {});\n",
              "          } catch (error) {\n",
              "            console.error('Error during call to suggestCharts:', error);\n",
              "          }\n",
              "          quickchartButtonEl.classList.remove('colab-df-spinner');\n",
              "          quickchartButtonEl.classList.add('colab-df-quickchart-complete');\n",
              "        }\n",
              "        (() => {\n",
              "          let quickchartButtonEl =\n",
              "            document.querySelector('#df-bf0523fe-14f0-46ec-aeed-562641fe09da button');\n",
              "          quickchartButtonEl.style.display =\n",
              "            google.colab.kernel.accessAllowed ? 'block' : 'none';\n",
              "        })();\n",
              "      </script>\n",
              "    </div>\n",
              "\n",
              "    </div>\n",
              "  </div>\n"
            ],
            "application/vnd.google.colaboratory.intrinsic+json": {
              "type": "dataframe",
              "variable_name": "df",
              "summary": "{\n  \"name\": \"df\",\n  \"rows\": 250,\n  \"fields\": [\n    {\n      \"column\": \"id\",\n      \"properties\": {\n        \"dtype\": \"number\",\n        \"std\": 72,\n        \"min\": 1,\n        \"max\": 250,\n        \"num_unique_values\": 250,\n        \"samples\": [\n          143,\n          7,\n          98\n        ],\n        \"semantic_type\": \"\",\n        \"description\": \"\"\n      }\n    },\n    {\n      \"column\": \"title\",\n      \"properties\": {\n        \"dtype\": \"string\",\n        \"num_unique_values\": 250,\n        \"samples\": [\n          \"The Irishman 143\",\n          \"Friends 7\",\n          \"Stranger Things 98\"\n        ],\n        \"semantic_type\": \"\",\n        \"description\": \"\"\n      }\n    },\n    {\n      \"column\": \"type\",\n      \"properties\": {\n        \"dtype\": \"category\",\n        \"num_unique_values\": 2,\n        \"samples\": [\n          \"S\\u00e9rie\",\n          \"Filme\"\n        ],\n        \"semantic_type\": \"\",\n        \"description\": \"\"\n      }\n    },\n    {\n      \"column\": \"genre\",\n      \"properties\": {\n        \"dtype\": \"category\",\n        \"num_unique_values\": 16,\n        \"samples\": [\n          \"Crime, Drama\",\n          \"Mist\\u00e9rio, Fic\\u00e7\\u00e3o Cient\\u00edfica\"\n        ],\n        \"semantic_type\": \"\",\n        \"description\": \"\"\n      }\n    },\n    {\n      \"column\": \"description\",\n      \"properties\": {\n        \"dtype\": \"category\",\n        \"num_unique_values\": 11,\n        \"samples\": [\n          \"Um grupo de detetives exc\\u00eantricos resolve casos criminais em Nova York.\",\n          \"Exploradores viajam pelo espa\\u00e7o em busca de um novo lar para a humanidade.\"\n        ],\n        \"semantic_type\": \"\",\n        \"description\": \"\"\n      }\n    }\n  ]\n}"
            }
          },
          "metadata": {},
          "execution_count": 6
        }
      ]
    },
    {
      "cell_type": "markdown",
      "source": [
        "# Sanitização dos Dados e Pré-Processamento (Tokenização, Stopwords, Lematização)\n"
      ],
      "metadata": {
        "id": "ZQvhzyzNO1L2"
      }
    },
    {
      "cell_type": "code",
      "source": [
        "# Pré-processamento dos gêneros\n",
        "df['genre'] = df['genre'].str.split(', ')\n"
      ],
      "metadata": {
        "id": "ogEixxTxO3qw"
      },
      "execution_count": 7,
      "outputs": []
    },
    {
      "cell_type": "markdown",
      "source": [
        "# Análise Exploratória de Dados (Distribuição de Tipos e Gêneros)\n"
      ],
      "metadata": {
        "id": "lAFTldnyO-Mo"
      }
    },
    {
      "cell_type": "code",
      "source": [
        "# Distribuição de Tipos de Conteúdo\n",
        "plt.figure(figsize=(8, 6))\n",
        "sns.countplot(data=df, x='type', palette='Set2')\n",
        "plt.title('Distribuição de Tipos de Conteúdo (Filmes vs Séries)')\n",
        "plt.xlabel('Tipo de Conteúdo')\n",
        "plt.ylabel('Quantidade')\n",
        "plt.show()\n",
        "\n",
        "# Distribuição dos Gêneros\n",
        "generos = df['genre'].explode().value_counts()\n",
        "plt.figure(figsize=(10, 6))\n",
        "sns.barplot(x=generos.head(10).index, y=generos.head(10).values, palette='Set1')\n",
        "plt.title('Top 10 Gêneros Mais Populares')\n",
        "plt.xlabel('Gênero')\n",
        "plt.ylabel('Quantidade')\n",
        "plt.xticks(rotation=45)\n",
        "plt.show()\n"
      ],
      "metadata": {
        "colab": {
          "base_uri": "https://localhost:8080/",
          "height": 1000
        },
        "id": "DigHI3__O_Vx",
        "outputId": "50f39496-37b5-44a8-f29a-dea01c897079"
      },
      "execution_count": 8,
      "outputs": [
        {
          "output_type": "stream",
          "name": "stderr",
          "text": [
            "<ipython-input-8-a3880b9e3d0d>:3: FutureWarning: \n",
            "\n",
            "Passing `palette` without assigning `hue` is deprecated and will be removed in v0.14.0. Assign the `x` variable to `hue` and set `legend=False` for the same effect.\n",
            "\n",
            "  sns.countplot(data=df, x='type', palette='Set2')\n"
          ]
        },
        {
          "output_type": "display_data",
          "data": {
            "text/plain": [
              "<Figure size 800x600 with 1 Axes>"
            ],
            "image/png": "[encoded data removed]"
          },
          "metadata": {}
        },
        {
          "output_type": "stream",
          "name": "stderr",
          "text": [
            "<ipython-input-8-a3880b9e3d0d>:12: FutureWarning: \n",
            "\n",
            "Passing `palette` without assigning `hue` is deprecated and will be removed in v0.14.0. Assign the `x` variable to `hue` and set `legend=False` for the same effect.\n",
            "\n",
            "  sns.barplot(x=generos.head(10).index, y=generos.head(10).values, palette='Set1')\n"
          ]
        },
        {
          "output_type": "display_data",
          "data": {
            "text/plain": [
              "<Figure size 1000x600 with 1 Axes>"
            ],
            "image/png": "[encoded data removed]"
          },
          "metadata": {}
        }
      ]
    },
    {
      "cell_type": "markdown",
      "source": [
        "# Sistema de Recomendação Baseado em Similaridade (TF-IDF + Similaridade do Cosseno)\n"
      ],
      "metadata": {
        "id": "dEMHO2r6PR7U"
      }
    },
    {
      "cell_type": "code",
      "source": [
        "# Função para recomendar conteúdo baseado em similaridade\n",
        "def recomendar_conteudo(titulo, top_n=5):\n",
        "    tfidf = TfidfVectorizer(stop_words='english')\n",
        "    tfidf_matrix = tfidf.fit_transform(df['description'])\n",
        "    cosine_sim = cosine_similarity(tfidf_matrix, tfidf_matrix)\n",
        "\n",
        "    idx = df[df['title'] == titulo].index[0]\n",
        "    sim_scores = list(enumerate(cosine_sim[idx]))\n",
        "    sim_scores = sorted(sim_scores, key=lambda x: x[1], reverse=True)\n",
        "    sim_scores = sim_scores[1:top_n+1]\n",
        "    indices = [i[0] for i in sim_scores]\n",
        "    return df['title'].iloc[indices]\n",
        "\n",
        "# Exemplo de recomendações\n",
        "print(\"Conteúdos recomendados para 'The Witcher 2':\")\n",
        "print(recomendar_conteudo('The Witcher 2'))\n",
        "\n",
        "print(\"\\nConteúdos recomendados para 'The Queen’s Gambit 1':\")\n",
        "print(recomendar_conteudo('The Queen’s Gambit 1'))\n"
      ],
      "metadata": {
        "colab": {
          "base_uri": "https://localhost:8080/"
        },
        "id": "C_5_n3VkPUxL",
        "outputId": "a678d43a-0256-4e0d-ea5a-aba7bf459819"
      },
      "execution_count": 9,
      "outputs": [
        {
          "output_type": "stream",
          "name": "stdout",
          "text": [
            "Conteúdos recomendados para 'The Witcher 2':\n",
            "8                     Dark 9\n",
            "33    The Big Bang Theory 34\n",
            "39           The Irishman 40\n",
            "41        Stranger Things 42\n",
            "51              Inception 52\n",
            "Name: title, dtype: object\n",
            "\n",
            "Conteúdos recomendados para 'The Queen’s Gambit 1':\n",
            "7      Shutter Island 8\n",
            "15    Rick and Morty 16\n",
            "22       Castlevania 23\n",
            "76         Inception 77\n",
            "77      Black Mirror 78\n",
            "Name: title, dtype: object\n"
          ]
        }
      ]
    },
    {
      "cell_type": "markdown",
      "source": [
        "# Avaliação da Recomendação: Cálculo de Top-N Precision e Recall@K\n"
      ],
      "metadata": {
        "id": "oVM4npllPb5F"
      }
    },
    {
      "cell_type": "code",
      "source": [
        "import numpy as np\n",
        "\n",
        "# TF-IDF da descrição\n",
        "tfidf = TfidfVectorizer(stop_words='english')\n",
        "tfidf_matrix = tfidf.fit_transform(df['description'])\n",
        "\n",
        "# Similaridade de cosseno\n",
        "cosine_sim = cosine_similarity(tfidf_matrix, tfidf_matrix)\n",
        "\n",
        "# Função para pegar os top-N recomendados\n",
        "def get_top_n_recommendations(idx, cosine_sim_matrix, n=5):\n",
        "    sim_scores = list(enumerate(cosine_sim_matrix[idx]))\n",
        "    sim_scores = sorted(sim_scores, key=lambda x: x[1], reverse=True)\n",
        "    sim_scores = sim_scores[1:n+1]\n",
        "    movie_indices = [i[0] for i in sim_scores]\n",
        "    return movie_indices\n",
        "\n",
        "# Simular avaliação\n",
        "np.random.seed(42)\n",
        "sample_indices = np.random.choice(df.index, size=10, replace=False)\n",
        "\n",
        "precision_scores = []\n",
        "recall_scores = []\n",
        "\n",
        "for idx in sample_indices:\n",
        "    true_genres = df.iloc[idx]['genre']\n",
        "    recommended_indices = get_top_n_recommendations(idx, cosine_sim, n=5)\n",
        "\n",
        "    recommended_genres = []\n",
        "    for rec_idx in recommended_indices:\n",
        "        recommended_genres.extend(df.iloc[rec_idx]['genre'])\n",
        "\n",
        "    recommended_genres = list(set(recommended_genres))\n",
        "\n",
        "    # Precision\n",
        "    relevant_recommendations = [genre for genre in recommended_genres if genre in true_genres]\n",
        "    precision = len(relevant_recommendations) / len(recommended_genres) if len(recommended_genres) > 0 else 0\n",
        "    precision_scores.append(precision)\n",
        "\n",
        "    # Recall\n",
        "    recall = len(relevant_recommendations) / len(true_genres) if len(true_genres) > 0 else 0\n",
        "    recall_scores.append(recall)\n",
        "\n",
        "# Resultados\n",
        "top_n_precision = np.mean(precision_scores)\n",
        "recall_at_k = np.mean(recall_scores)\n",
        "\n",
        "print(f\"Top-N Precision: {top_n_precision:.2f}\")\n",
        "print(f\"Recall@K: {recall_at_k:.2f}\")\n"
      ],
      "metadata": {
        "colab": {
          "base_uri": "https://localhost:8080/"
        },
        "id": "Q7SLvv1kPhwz",
        "outputId": "b3d5ac63-4ce2-4e22-8ddd-b9c30c4d73d4"
      },
      "execution_count": 13,
      "outputs": [
        {
          "output_type": "stream",
          "name": "stdout",
          "text": [
            "Top-N Precision: 0.12\n",
            "Recall@K: 0.50\n"
          ]
        }
      ]
    }
  ]
}